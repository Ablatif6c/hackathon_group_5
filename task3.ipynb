{
 "cells": [
  {
   "cell_type": "code",
   "execution_count": 228,
   "metadata": {},
   "outputs": [],
   "source": [
    "import numpy as np\n",
    "\n",
    "\n",
    "import matplotlib.pyplot as plt\n",
    "import random"
   ]
  },
  {
   "cell_type": "markdown",
   "metadata": {},
   "source": [
    "## The data\n",
    "\n",
    "The data is from electron microscopy - images of grpahene sheets. The typical image is $(256, 256)$ but we would like to take small patches of this and identify - is there a defect in the patch.\n",
    "\n",
    "Lets go through a few of those things. Below we will look at \n",
    "\n",
    "* A full image\n",
    "* A patch of an image with no defects\n",
    "* A patch with a defect"
   ]
  },
  {
   "cell_type": "markdown",
   "metadata": {},
   "source": [
    "### Full image"
   ]
  },
  {
   "cell_type": "code",
   "execution_count": 229,
   "metadata": {},
   "outputs": [],
   "source": [
    "graphene = np.load('full-stack.npy') ## This has 180 different microgrpahs each (256, 256)\n",
    "sample = np.squeeze(graphene[54])"
   ]
  },
  {
   "cell_type": "code",
   "execution_count": 230,
   "metadata": {},
   "outputs": [
    {
     "name": "stdout",
     "output_type": "stream",
     "text": [
      "(256, 256)\n"
     ]
    }
   ],
   "source": [
    "print(sample.shape)"
   ]
  },
  {
   "cell_type": "code",
   "execution_count": 231,
   "metadata": {},
   "outputs": [],
   "source": [
    "plt.imshow(sample)\n",
    "plt.colorbar();"
   ]
  },
  {
   "cell_type": "markdown",
   "metadata": {},
   "source": [
    "#### Description\n",
    "The blue (high electron density) correspnds to atoms and the green correspnds to background.\n",
    "\n",
    "You can see that in the middle of the sheet most of it is a pretty regular array of hexagons, this is what we exepct for the perfect lattice. You will also hopefully see some spots where the hexagon is broken. This many of these are the result of missing atom defects. \n",
    "\n",
    "Notice the edges look a bit weird too. This is standard, and we will generally ignore the edges when analysing.\n",
    "\n"
   ]
  },
  {
   "cell_type": "markdown",
   "metadata": {},
   "source": [
    "### Perfect patch\n",
    "\n",
    "There is a training dataset of perfect patches "
   ]
  },
  {
   "cell_type": "code",
   "execution_count": 232,
   "metadata": {},
   "outputs": [
    {
     "name": "stdout",
     "output_type": "stream",
     "text": [
      "(2279, 48, 48)\n"
     ]
    }
   ],
   "source": [
    "pp = np.load('./perfect_patches.npy')\n",
    "perfect_sample = pp[0] \n",
    "print(pp.shape)"
   ]
  },
  {
   "cell_type": "code",
   "execution_count": 233,
   "metadata": {},
   "outputs": [
    {
     "data": {
      "text/plain": [
       "(0.12360269, 0.0072767125, 24.593985, 24.593985, 3.0398827, 0.17896335)"
      ]
     },
     "execution_count": 233,
     "metadata": {},
     "output_type": "execute_result"
    }
   ],
   "source": [
    "n1 = np.sum(perfect_sample, axis=0)\n",
    "plt.plot(n1, label='Sum over vertical direction')\n",
    "e1 = np.std(n1)/np.mean(n1)\n",
    "n2 = np.sum(perfect_sample, axis=1)\n",
    "e2 = np.std(n2)/np.mean(n2)\n",
    "plt.plot(n2,label='Sum over horizontal direction')\n",
    "e1, e2, np.mean(n1), np.mean(n2), np.std(n1), np.std(n2)"
   ]
  },
  {
   "cell_type": "code",
   "execution_count": 234,
   "metadata": {},
   "outputs": [],
   "source": [
    "import matplotlib\n",
    "matplotlib.use(\"pgf\")\n",
    "matplotlib.rcParams.update({\n",
    "    \"pgf.texsystem\": \"pdflatex\",\n",
    "    'font.family': 'serif',\n",
    "    'text.usetex': True,\n",
    "    'pgf.rcfonts': False,\n",
    "})\n",
    "\n",
    "def plotVec(image,n1,n2,name):\n",
    "    fig, axs = plt.subplots(2, 2,figsize=(16,16))\n",
    "    axs[0, 0].imshow(image)\n",
    "    axs[0, 0].set_title('Patch under inspection', fontsize=20)\n",
    "    axs[0, 1].plot(n1,np.arange(1,n1.shape[0]+1),'r',label='H Direction')\n",
    "    axs[0, 1].set_title('Horizontal projection', fontsize=20)\n",
    "    axs[1, 0].plot(n2, 'b',label='V Direction')\n",
    "    axs[1, 0].set_title('Vertical projection', fontsize=20)\n",
    "    axs[1, 1].plot(n1, 'r', label='H projection')\n",
    "    axs[1, 1].plot(n2, 'b', label='V projection')\n",
    "    axs[1, 1].set_title('Both projections', fontsize=20)\n",
    "    axs[0, 1].set(xlim=(20, 30))\n",
    "    axs[1, 1].set(ylim=(20, 30))\n",
    "    axs[1, 0].set(ylim=(20, 30))\n",
    "    axs[1,1].legend(loc='best',fontsize=20)\n",
    "    axs[0, 1].legend(loc='best',fontsize=20)\n",
    "    axs[1, 0].legend(loc='best',fontsize=20)\n",
    "    axs[0, 0].tick_params(axis='x', labelsize=16)\n",
    "    axs[0, 0].tick_params(axis='y', labelsize=16)\n",
    "    axs[0, 1].tick_params(axis='x', labelsize=16)\n",
    "    axs[0, 1].tick_params(axis='y', labelsize=16)\n",
    "    axs[1, 0].tick_params(axis='x', labelsize=16)\n",
    "    axs[1, 0].tick_params(axis='y', labelsize=16)\n",
    "    axs[1, 1].tick_params(axis='x', labelsize=16)\n",
    "    axs[1, 1].tick_params(axis='y', labelsize=16)\n",
    "    fig.savefig(name, format='pgf', bbox_inches='tight')\n",
    "    \n",
    "\n"
   ]
  },
  {
   "cell_type": "code",
   "execution_count": 235,
   "metadata": {},
   "outputs": [],
   "source": [
    "plotVec(perfect_sample,n1,n2,'perfect_sample.pgf')"
   ]
  },
  {
   "cell_type": "code",
   "execution_count": 236,
   "metadata": {},
   "outputs": [
    {
     "name": "stderr",
     "output_type": "stream",
     "text": [
      "/tmp/ipykernel_20208/1837148048.py:2: UserWarning: Matplotlib is currently using pgf, which is a non-GUI backend, so cannot show the figure.\n",
      "  plt.show()\n"
     ]
    }
   ],
   "source": [
    "plt.imshow(perfect_sample);\n",
    "plt.show()"
   ]
  },
  {
   "cell_type": "markdown",
   "metadata": {},
   "source": [
    "### Defect patch\n",
    "\n",
    "There is also a set of defective patches. Note - these are for testing only, not for training. I guess we could imagine training a classifier on these and the perfect patches - but that would be no fun :)"
   ]
  },
  {
   "cell_type": "code",
   "execution_count": 237,
   "metadata": {},
   "outputs": [
    {
     "name": "stdout",
     "output_type": "stream",
     "text": [
      "(32, 48, 48)\n"
     ]
    }
   ],
   "source": [
    "dp = np.load('./defect_patches.npy')\n",
    "defect_sample = dp[22] \n",
    "print(dp.shape)\n"
   ]
  },
  {
   "cell_type": "code",
   "execution_count": 238,
   "metadata": {},
   "outputs": [
    {
     "name": "stderr",
     "output_type": "stream",
     "text": [
      "/tmp/ipykernel_20208/1731622944.py:3: UserWarning: Matplotlib is currently using pgf, which is a non-GUI backend, so cannot show the figure.\n",
      "  plt.show()\n"
     ]
    }
   ],
   "source": [
    "plt.figure(figsize=(5, 5))\n",
    "plt.imshow(defect_sample);\n",
    "plt.show()"
   ]
  },
  {
   "cell_type": "code",
   "execution_count": 239,
   "metadata": {},
   "outputs": [
    {
     "data": {
      "text/plain": [
       "(0.12030859, 0.03492741, 25.291075, 25.291077, 3.0427337, 0.8833518)"
      ]
     },
     "execution_count": 239,
     "metadata": {},
     "output_type": "execute_result"
    }
   ],
   "source": [
    "n1 = np.sum(defect_sample, axis=0)\n",
    "plt.plot(n1)\n",
    "e1 = np.std(n1)/np.mean(n1)\n",
    "n2 = np.sum(defect_sample, axis=1)\n",
    "e2 = np.std(n2)/np.mean(n2)\n",
    "plt.plot(n2)\n",
    "e1, e2, np.mean(n1), np.mean(n2), np.std(n1), np.std(n2)\n"
   ]
  },
  {
   "cell_type": "markdown",
   "metadata": {},
   "source": [
    "Get patches perfect and defect, and put them randomly in a list, with the ground truth saved"
   ]
  },
  {
   "cell_type": "markdown",
   "metadata": {},
   "source": [
    "Have fun :-)"
   ]
  },
  {
   "cell_type": "code",
   "execution_count": 240,
   "metadata": {},
   "outputs": [],
   "source": [
    "plotVec(defect_sample,n1,n2,'defect_sample.pgf')"
   ]
  },
  {
   "cell_type": "code",
   "execution_count": 241,
   "metadata": {},
   "outputs": [],
   "source": [
    "def data(image):\n",
    "    image0 = np.sum(image,axis=0)\n",
    "    image1 = np.sum(image,axis=1)\n",
    "    stdim0 = np.std(image0)\n",
    "    stdim1 = np.std(image1)\n",
    "    return [stdim0,stdim1]\n"
   ]
  },
  {
   "cell_type": "code",
   "execution_count": 242,
   "metadata": {},
   "outputs": [],
   "source": [
    "ppL = []\n",
    "dpL = []\n",
    "for i in pp:\n",
    "    ppL.append(data(i))\n",
    "for i in dp:\n",
    "    dpL.append(data(i))\n"
   ]
  },
  {
   "cell_type": "code",
   "execution_count": 243,
   "metadata": {},
   "outputs": [],
   "source": [
    "patches = np.concatenate([pp, dp])\n",
    "gt = np.concatenate([np.zeros(len(pp)), np.ones(len(dp))])\n",
    "xy = list(zip(patches, gt)) # put labels with data in (data, label) tuple\n",
    "random.shuffle(xy) # shuffle the tuples"
   ]
  },
  {
   "cell_type": "code",
   "execution_count": 244,
   "metadata": {},
   "outputs": [],
   "source": [
    "patches, gt = list(zip(*xy)) # unzip the tuples to get patches and ground truths as vectors"
   ]
  },
  {
   "cell_type": "code",
   "execution_count": null,
   "metadata": {},
   "outputs": [],
   "source": []
  },
  {
   "cell_type": "code",
   "execution_count": 245,
   "metadata": {},
   "outputs": [
    {
     "data": {
      "text/plain": [
       "2311"
      ]
     },
     "execution_count": 245,
     "metadata": {},
     "output_type": "execute_result"
    }
   ],
   "source": [
    "len(patches)"
   ]
  }
 ],
 "metadata": {
  "kernelspec": {
   "display_name": "Python 3.10.4 64-bit",
   "language": "python",
   "name": "python3"
  },
  "language_info": {
   "codemirror_mode": {
    "name": "ipython",
    "version": 3
   },
   "file_extension": ".py",
   "mimetype": "text/x-python",
   "name": "python",
   "nbconvert_exporter": "python",
   "pygments_lexer": "ipython3",
   "version": "3.10.4"
  },
  "vscode": {
   "interpreter": {
    "hash": "916dbcbb3f70747c44a77c7bcd40155683ae19c65e1c03b4aa3499c5328201f1"
   }
  }
 },
 "nbformat": 4,
 "nbformat_minor": 4
}
